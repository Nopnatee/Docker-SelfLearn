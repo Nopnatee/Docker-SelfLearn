{
 "cells": [
  {
   "cell_type": "markdown",
   "id": "840f4c2a",
   "metadata": {},
   "source": [
    "# Numpy\n",
    "\n",
    "Library for fast operations on large arrays/matrices\n",
    "\n",
    "Core to most ML/DL libraries (including PyTorch)"
   ]
  },
  {
   "cell_type": "code",
   "execution_count": 1,
   "id": "d1421ed3",
   "metadata": {},
   "outputs": [],
   "source": [
    "import numpy as np"
   ]
  },
  {
   "cell_type": "markdown",
   "id": "36870e54",
   "metadata": {},
   "source": [
    "## 1. Creating Arrays"
   ]
  },
  {
   "cell_type": "code",
   "execution_count": null,
   "id": "a06ae5db",
   "metadata": {},
   "outputs": [],
   "source": [
    "a = np.array([1, 2, 3])\n",
    "b = np.zeros((2, 3))         # 2x3 array of zeros\n",
    "c = np.ones((3, 3))          # 3x3 array of ones\n",
    "d = np.arange(0, 10, 2)      # [0, 2, 4, 6, 8]\n",
    "e = np.linspace(0, 1, 5)     # [0. , 0.25, 0.5 , 0.75, 1.]"
   ]
  },
  {
   "cell_type": "code",
   "execution_count": null,
   "id": "be9e83ce",
   "metadata": {},
   "outputs": [],
   "source": [
    "print(f\"a = {a}\\n\")\n",
    "print(f\"b = {b}\\n\")\n",
    "print(f\"c = {c}\\n\")\n",
    "print(f\"d = {d}\\n\")\n",
    "print(f\"e = {e}\\n\")"
   ]
  },
  {
   "cell_type": "markdown",
   "id": "0489e0f5",
   "metadata": {},
   "source": [
    "## 2. Array Indexing & Slicing"
   ]
  },
  {
   "cell_type": "code",
   "execution_count": 11,
   "id": "042802e8",
   "metadata": {},
   "outputs": [
    {
     "name": "stdout",
     "output_type": "stream",
     "text": [
      "20\n",
      "[20 50]\n",
      "[40 50 60]\n"
     ]
    }
   ],
   "source": [
    "a = np.array([[10, 20, 30], [40, 50, 60]])\n",
    "print(a[0, 1]) # Second of first\n",
    "print(a[:, 1]) # Second of all\n",
    "print(a[1, :]) # All of second\n"
   ]
  },
  {
   "cell_type": "markdown",
   "id": "f745ec7f",
   "metadata": {},
   "source": [
    "## 3. Array Operations"
   ]
  },
  {
   "cell_type": "code",
   "execution_count": 12,
   "id": "ccaced48",
   "metadata": {},
   "outputs": [
    {
     "data": {
      "text/plain": [
       "32"
      ]
     },
     "execution_count": 12,
     "metadata": {},
     "output_type": "execute_result"
    }
   ],
   "source": [
    "x = np.array([1, 2, 3])\n",
    "y = np.array([4, 5, 6])\n",
    "x + y           # [5, 7, 9]\n",
    "x * y           # [4, 10, 18]\n",
    "x @ y           # dot product = 1×4 + 2×5 + 3×6 = 32\n"
   ]
  },
  {
   "cell_type": "markdown",
   "id": "798403c0",
   "metadata": {},
   "source": [
    "## 4. Statistics & Utilities"
   ]
  },
  {
   "cell_type": "code",
   "execution_count": 13,
   "id": "014cbfd9",
   "metadata": {},
   "outputs": [
    {
     "data": {
      "text/plain": [
       "(60, 10)"
      ]
     },
     "execution_count": 13,
     "metadata": {},
     "output_type": "execute_result"
    }
   ],
   "source": [
    "a.mean(), a.std(), a.sum()\n",
    "np.max(a), np.min(a)"
   ]
  },
  {
   "cell_type": "markdown",
   "id": "967dbec6",
   "metadata": {},
   "source": [
    "## 5. Reshape & Transpose"
   ]
  },
  {
   "cell_type": "code",
   "execution_count": 14,
   "id": "c5e808aa",
   "metadata": {},
   "outputs": [
    {
     "data": {
      "text/plain": [
       "array([[10, 40],\n",
       "       [20, 50],\n",
       "       [30, 60]])"
      ]
     },
     "execution_count": 14,
     "metadata": {},
     "output_type": "execute_result"
    }
   ],
   "source": [
    "a.reshape((3, 2))       # new shape\n",
    "a.T                     # transpose"
   ]
  }
 ],
 "metadata": {
  "kernelspec": {
   "display_name": "Python 3",
   "language": "python",
   "name": "python3"
  },
  "language_info": {
   "codemirror_mode": {
    "name": "ipython",
    "version": 3
   },
   "file_extension": ".py",
   "mimetype": "text/x-python",
   "name": "python",
   "nbconvert_exporter": "python",
   "pygments_lexer": "ipython3",
   "version": "3.11.9"
  }
 },
 "nbformat": 4,
 "nbformat_minor": 5
}
