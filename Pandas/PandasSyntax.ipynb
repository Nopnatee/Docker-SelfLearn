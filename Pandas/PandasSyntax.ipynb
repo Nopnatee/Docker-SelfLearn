{
 "cells": [
  {
   "cell_type": "markdown",
   "id": "356ff19c",
   "metadata": {},
   "source": [
    "# Pandas\n",
    "\n",
    "Built on NumPy\n",
    "\n",
    "Used for manipulating labeled/tabular data (like CSVs)"
   ]
  },
  {
   "cell_type": "code",
   "execution_count": 1,
   "id": "5680e695",
   "metadata": {},
   "outputs": [],
   "source": [
    "import pandas as pd"
   ]
  },
  {
   "cell_type": "markdown",
   "id": "fc2d8170",
   "metadata": {},
   "source": [
    "## 1. Creating a DataFrame"
   ]
  },
  {
   "cell_type": "code",
   "execution_count": 2,
   "id": "9fada377",
   "metadata": {},
   "outputs": [
    {
     "name": "stdout",
     "output_type": "stream",
     "text": [
      "      Name  Age\n",
      "0    Alice   25\n",
      "1      Bob   30\n",
      "2  Charlie   35\n"
     ]
    }
   ],
   "source": [
    "data = {\n",
    "    \"Name\": [\"Alice\", \"Bob\", \"Charlie\"],\n",
    "    \"Age\": [25, 30, 35]\n",
    "}\n",
    "df = pd.DataFrame(data)\n",
    "print(df)"
   ]
  },
  {
   "cell_type": "markdown",
   "id": "89b44e74",
   "metadata": {},
   "source": [
    "## 2. Read / Write Files"
   ]
  },
  {
   "cell_type": "code",
   "execution_count": null,
   "id": "e203f5ad",
   "metadata": {},
   "outputs": [],
   "source": [
    "df = pd.read_csv(\"data.csv\")\n",
    "df.to_csv(\"output.csv\", index=False)\n"
   ]
  },
  {
   "cell_type": "markdown",
   "id": "234ec3d5",
   "metadata": {},
   "source": [
    "## 3. Accessing Data"
   ]
  },
  {
   "cell_type": "code",
   "execution_count": null,
   "id": "fea1e436",
   "metadata": {},
   "outputs": [],
   "source": [
    "df.head()                # First 5 rows\n",
    "df[\"Age\"]                # Access column\n",
    "df.iloc[0]               # Row by index\n",
    "df.loc[0, \"Name\"]        # Cell by label\n"
   ]
  },
  {
   "cell_type": "markdown",
   "id": "1b98d92d",
   "metadata": {},
   "source": [
    "## 4. Filtering & Conditions"
   ]
  },
  {
   "cell_type": "code",
   "execution_count": null,
   "id": "62083610",
   "metadata": {},
   "outputs": [],
   "source": [
    "df[df[\"Age\"] > 30]"
   ]
  },
  {
   "cell_type": "markdown",
   "id": "2f91e395",
   "metadata": {},
   "source": [
    "## 5. Adding Columns / Modifying"
   ]
  },
  {
   "cell_type": "code",
   "execution_count": null,
   "id": "1982f8a9",
   "metadata": {},
   "outputs": [],
   "source": [
    "df[\"Is_Adult\"] = df[\"Age\"] > 18"
   ]
  },
  {
   "cell_type": "markdown",
   "id": "941713dd",
   "metadata": {},
   "source": [
    "## 6. Statistics & Grouping"
   ]
  },
  {
   "cell_type": "code",
   "execution_count": null,
   "id": "e1a705e9",
   "metadata": {},
   "outputs": [],
   "source": [
    "df.describe()            # Mean, std, min, max\n",
    "df.groupby(\"Is_Adult\").mean()"
   ]
  }
 ],
 "metadata": {
  "kernelspec": {
   "display_name": "Python 3",
   "language": "python",
   "name": "python3"
  },
  "language_info": {
   "codemirror_mode": {
    "name": "ipython",
    "version": 3
   },
   "file_extension": ".py",
   "mimetype": "text/x-python",
   "name": "python",
   "nbconvert_exporter": "python",
   "pygments_lexer": "ipython3",
   "version": "3.11.9"
  }
 },
 "nbformat": 4,
 "nbformat_minor": 5
}
